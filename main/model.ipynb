{
 "cells": [
  {
   "cell_type": "code",
   "execution_count": 1,
   "metadata": {},
   "outputs": [
    {
     "name": "stderr",
     "output_type": "stream",
     "text": [
      "/home/paperspace/anaconda3/envs/fastai/lib/python3.6/site-packages/h5py/__init__.py:36: FutureWarning: Conversion of the second argument of issubdtype from `float` to `np.floating` is deprecated. In future, it will be treated as `np.float64 == np.dtype(float).type`.\n",
      "  from ._conv import register_converters as _register_converters\n",
      "Using TensorFlow backend.\n"
     ]
    }
   ],
   "source": [
    "import numpy as np\n",
    "import pandas as pd\n",
    "np.random.seed(0)\n",
    "from keras.models import Model\n",
    "from keras.layers import Dense, Input, Dropout, LSTM, Activation\n",
    "from keras.layers.embeddings import Embedding\n",
    "from keras.preprocessing import sequence\n",
    "from keras.initializers import glorot_uniform\n",
    "from unicodedata import normalize\n",
    "np.random.seed(1)\n",
    "#import dill"
   ]
  },
  {
   "cell_type": "code",
   "execution_count": 2,
   "metadata": {},
   "outputs": [],
   "source": [
    "def read_glove_vecs(glove_file):\n",
    "    with open(glove_file, 'r') as f:\n",
    "        words = set()\n",
    "        word_to_vec_map = {}\n",
    "        for line in f:\n",
    "            line = normalize('NFKD',line.strip()).split(' ')\n",
    "            curr_word = ' '.join(line[:-300])\n",
    "            words.add(curr_word)\n",
    "            word_to_vec_map[curr_word] = np.array(line[-300:], dtype=np.float64)\n",
    "        \n",
    "        i = 1\n",
    "        words_to_index = {}\n",
    "        index_to_words = {}\n",
    "        for w in sorted(words):\n",
    "            words_to_index[w] = i\n",
    "            index_to_words[i] = w\n",
    "            i = i + 1\n",
    "    return words_to_index, index_to_words, word_to_vec_map"
   ]
  },
  {
   "cell_type": "code",
   "execution_count": 3,
   "metadata": {},
   "outputs": [],
   "source": [
    "word_to_index, index_to_word, word_to_vec_map = read_glove_vecs('../data/glove.840B.300d.txt')"
   ]
  },
  {
   "cell_type": "code",
   "execution_count": 4,
   "metadata": {},
   "outputs": [
    {
     "name": "stdout",
     "output_type": "stream",
     "text": [
      "the index of nyu in the vocabulary is 1934360\n",
      "the 289846th word in the vocabulary is 256-byte\n"
     ]
    }
   ],
   "source": [
    "word = \"nyu\"\n",
    "index = 289846\n",
    "print(\"the index of\", word, \"in the vocabulary is\", word_to_index[word])\n",
    "print(\"the\", str(index) + \"th word in the vocabulary is\", index_to_word[index])"
   ]
  },
  {
   "cell_type": "code",
   "execution_count": 5,
   "metadata": {},
   "outputs": [],
   "source": [
    "data = pd.read_csv('../data/output_1.csv',index_col=0).reset_index(drop=True)"
   ]
  },
  {
   "cell_type": "code",
   "execution_count": 6,
   "metadata": {},
   "outputs": [],
   "source": [
    "train = pd.concat([data[data['label']==0].sample(400),data[data['label']==1].sample(400)])"
   ]
  },
  {
   "cell_type": "code",
   "execution_count": 7,
   "metadata": {},
   "outputs": [],
   "source": [
    "X_train, Y_train = np.array(train.tweet_content),np.array(train.label)"
   ]
  },
  {
   "cell_type": "code",
   "execution_count": 8,
   "metadata": {},
   "outputs": [],
   "source": [
    "test = data[~data.index.isin(list(train.index))]"
   ]
  },
  {
   "cell_type": "code",
   "execution_count": 9,
   "metadata": {},
   "outputs": [],
   "source": [
    "X_test, Y_test = np.array(test.tweet_content),np.array(test.label)"
   ]
  },
  {
   "cell_type": "code",
   "execution_count": 20,
   "metadata": {},
   "outputs": [],
   "source": [
    "def find_len(sentence):\n",
    "    sen = sentence.split(' ')\n",
    "    sen = [i.strip() for i in sen if 'http' not in i]\n",
    "    sen = [i for i in sen if len(i)>0]\n",
    "    return(len(sen))\n",
    "def convert_to_one_hot(Y, C):\n",
    "    Y = np.eye(C)[Y.reshape(-1)]\n",
    "    return Y"
   ]
  },
  {
   "cell_type": "code",
   "execution_count": 11,
   "metadata": {},
   "outputs": [],
   "source": [
    "maxLen = max([find_len(i) for i in X_train])"
   ]
  },
  {
   "cell_type": "code",
   "execution_count": 12,
   "metadata": {},
   "outputs": [],
   "source": [
    "def sentences_to_indices(X, word_to_index, max_len):\n",
    "    \"\"\"\n",
    "    Converts an array of sentences (strings) into an array of indices corresponding to words in the sentences.\n",
    "    The output shape should be such that it can be given to `Embedding()` (described in Figure 4). \n",
    "    \n",
    "    Arguments:\n",
    "    X -- array of sentences (strings), of shape (m, 1)\n",
    "    word_to_index -- a dictionary containing the each word mapped to its index\n",
    "    max_len -- maximum number of words in a sentence. You can assume every sentence in X is no longer than this. \n",
    "    \n",
    "    Returns:\n",
    "    X_indices -- array of indices corresponding to words in the sentences from X, of shape (m, max_len)\n",
    "    \"\"\"\n",
    "    \n",
    "    m = X.shape[0]                                   # number of training examples\n",
    "    \n",
    "    ### START CODE HERE ###\n",
    "    # Initialize X_indices as a numpy matrix of zeros and the correct shape (≈ 1 line)\n",
    "    X_indices = np.zeros([m,max_len])\n",
    "    \n",
    "    for i in range(m):                               # loop over training examples\n",
    "        \n",
    "        # Convert the ith training sentence in lower case and split is into words. You should get a list of words.\n",
    "        sentence_words = X[i].split(' ')\n",
    "        sentence_words = [i.strip() for i in sentence_words if 'http' not in i]\n",
    "        sentence_words = [i for i in sentence_words if len(i)>0]\n",
    "        \n",
    "        # Initialize j to 0\n",
    "        j = 0\n",
    "        \n",
    "        # Loop over the words of sentence_words\n",
    "        for w in sentence_words:\n",
    "            if w not in word_to_index:\n",
    "                word_to_vec_map[w] = np.random.normal(0,0.5,300)\n",
    "                word_to_index[w] = len(word_to_index)+1\n",
    "                index_to_word[len(word_to_index)+1] = w\n",
    "            # Set the (i,j)th entry of X_indices to the index of the correct word.\n",
    "            X_indices[i, j] = word_to_index[w]\n",
    "            # Increment j to j + 1\n",
    "            j = j+1\n",
    "            \n",
    "    ### END CODE HERE ###\n",
    "    \n",
    "    return X_indices"
   ]
  },
  {
   "cell_type": "code",
   "execution_count": 13,
   "metadata": {},
   "outputs": [
    {
     "name": "stdout",
     "output_type": "stream",
     "text": [
      "X1 = ['.@FloydMayweather just stepped up in a BIG way and donated $200 MILLION to #Houston 🙌🏽🙏🏽 #Harvey'\n",
      " 'Hey! @FloydMayweather social media is saying you donated $200 million to Houston for victims of Harvey. Is it true? #harvey #HopeForHouston'\n",
      " '#Harvey2017 #Antifa #BlackLivesMatter #HarveyLootcrew https://t.co/R3PCR44Amf']\n",
      "X1_indices = [[2.195412e+06 1.834088e+06 2.084350e+06 2.145677e+06 1.810830e+06\n",
      "  1.540021e+06 5.279720e+05 2.166160e+06 1.561756e+06 1.694663e+06\n",
      "  2.195413e+06 1.027925e+06 2.121635e+06 1.319000e+03 2.195414e+06\n",
      "  2.195415e+06 0.000000e+00 0.000000e+00 0.000000e+00 0.000000e+00\n",
      "  0.000000e+00 0.000000e+00 0.000000e+00 0.000000e+00 0.000000e+00\n",
      "  0.000000e+00 0.000000e+00 0.000000e+00 0.000000e+00 0.000000e+00]\n",
      " [2.195416e+06 2.195417e+06 2.071175e+06 1.883765e+06 1.823739e+06\n",
      "  2.041490e+06 2.189551e+06 1.694663e+06 2.195413e+06 1.893035e+06\n",
      "  2.121635e+06 8.848700e+05 1.746336e+06 2.155398e+06 1.936716e+06\n",
      "  2.195418e+06 9.181830e+05 1.825179e+06 2.195419e+06 2.195420e+06\n",
      "  2.195421e+06 0.000000e+00 0.000000e+00 0.000000e+00 0.000000e+00\n",
      "  0.000000e+00 0.000000e+00 0.000000e+00 0.000000e+00 0.000000e+00]\n",
      " [2.195422e+06 2.195423e+06 2.195424e+06 2.195425e+06 0.000000e+00\n",
      "  0.000000e+00 0.000000e+00 0.000000e+00 0.000000e+00 0.000000e+00\n",
      "  0.000000e+00 0.000000e+00 0.000000e+00 0.000000e+00 0.000000e+00\n",
      "  0.000000e+00 0.000000e+00 0.000000e+00 0.000000e+00 0.000000e+00\n",
      "  0.000000e+00 0.000000e+00 0.000000e+00 0.000000e+00 0.000000e+00\n",
      "  0.000000e+00 0.000000e+00 0.000000e+00 0.000000e+00 0.000000e+00]]\n"
     ]
    }
   ],
   "source": [
    "X1 = np.array(data['tweet_content'][:3].tolist())\n",
    "X1_indices = sentences_to_indices(X1,word_to_index, max_len = 30)\n",
    "print(\"X1 =\", X1)\n",
    "print(\"X1_indices =\", X1_indices)"
   ]
  },
  {
   "cell_type": "code",
   "execution_count": 14,
   "metadata": {},
   "outputs": [],
   "source": [
    "def pretrained_embedding_layer(word_to_vec_map, word_to_index):\n",
    "    \"\"\"\n",
    "    Creates a Keras Embedding() layer and loads in pre-trained GloVe 50-dimensional vectors.\n",
    "    \n",
    "    Arguments:\n",
    "    word_to_vec_map -- dictionary mapping words to their GloVe vector representation.\n",
    "    word_to_index -- dictionary mapping from words to their indices in the vocabulary (400,001 words)\n",
    "\n",
    "    Returns:\n",
    "    embedding_layer -- pretrained layer Keras instance\n",
    "    \"\"\"\n",
    "    \n",
    "    vocab_len = len(word_to_index) + 1                  # adding 1 to fit Keras embedding (requirement)\n",
    "    emb_dim = word_to_vec_map[\"cucumber\"].shape[0]      # define dimensionality of your GloVe word vectors \n",
    "    \n",
    "    ### START CODE HERE ###\n",
    "    # Initialize the embedding matrix as a numpy array of zeros of shape (vocab_len, dimensions of word vectors = emb_dim)\n",
    "    emb_matrix = np.zeros([vocab_len,emb_dim])\n",
    "    \n",
    "    # Set each row \"index\" of the embedding matrix to be the word vector representation of the \"index\"th word of the vocabulary\n",
    "    for word, index in word_to_index.items():\n",
    "        emb_matrix[index, :] = word_to_vec_map[word]\n",
    "\n",
    "    # Define Keras embedding layer with the correct output/input sizes, make it trainable. \n",
    "    embedding_layer = Embedding(vocab_len, emb_dim,trainable=False)\n",
    "    ### END CODE HERE ###\n",
    "\n",
    "    # Build the embedding layer, it is required before setting the weights of the embedding layer. Do not modify the \"None\".\n",
    "    embedding_layer.build((None,))\n",
    "    \n",
    "    # Set the weights of the embedding layer to the embedding matrix. Your layer is now pretrained.\n",
    "    embedding_layer.set_weights([emb_matrix])\n",
    "    \n",
    "    return embedding_layer"
   ]
  },
  {
   "cell_type": "code",
   "execution_count": 15,
   "metadata": {},
   "outputs": [
    {
     "name": "stdout",
     "output_type": "stream",
     "text": [
      "weights[0][1][3] = -0.40237\n"
     ]
    }
   ],
   "source": [
    "embedding_layer = pretrained_embedding_layer(word_to_vec_map, word_to_index)\n",
    "print(\"weights[0][1][3] =\", embedding_layer.get_weights()[0][1][3])"
   ]
  },
  {
   "cell_type": "code",
   "execution_count": 16,
   "metadata": {},
   "outputs": [],
   "source": [
    "def Harvey_Fake(input_shape, word_to_vec_map, word_to_index):\n",
    "    \"\"\"\n",
    "    Function creating the Harvey_Fake model's graph.\n",
    "    \n",
    "    Arguments:\n",
    "    input_shape -- shape of the input, usually (max_len,)\n",
    "    word_to_vec_map -- dictionary mapping every word in a vocabulary into its 300-dimensional vector representation\n",
    "    word_to_index -- dictionary mapping from words to their indices in the vocabulary (2.2m words)\n",
    "\n",
    "    Returns:\n",
    "    model -- a model instance in Keras\n",
    "    \"\"\"\n",
    "    \n",
    "    ### START CODE HERE ###\n",
    "    # Define sentence_indices as the input of the graph, it should be of shape input_shape and dtype 'int32' (as it contains indices).\n",
    "    sentence_indices = Input(input_shape,dtype='int32')\n",
    "    \n",
    "    # Create the embedding layer pretrained with GloVe Vectors (≈1 line)\n",
    "    embedding_layer = pretrained_embedding_layer(word_to_vec_map,word_to_index)\n",
    "    \n",
    "    # Propagate sentence_indices through your embedding layer, you get back the embeddings\n",
    "    embeddings = embedding_layer(sentence_indices)   \n",
    "    \n",
    "    # Propagate the embeddings through an LSTM layer with 128-dimensional hidden state\n",
    "    # Be careful, the returned output should be a batch of sequences.\n",
    "    X = LSTM(128,return_sequences=True)(embeddings)\n",
    "    # Add dropout with a probability of 0.5\n",
    "    X = Dropout(0.5)(X)\n",
    "    # Propagate X trough another LSTM layer with 128-dimensional hidden state\n",
    "    # Be careful, the returned output should be a single hidden state, not a batch of sequences.\n",
    "    X = LSTM(128)(X)\n",
    "    # Add dropout with a probability of 0.5\n",
    "    X = Dropout(0.5)(X)\n",
    "    # Propagate X through a Dense layer with softmax activation to get back a batch of 5-dimensional vectors.\n",
    "    X = Dense(2)(X)\n",
    "    # Add a softmax activation\n",
    "    X = Activation('softmax')(X)\n",
    "    \n",
    "    # Create Model instance which converts sentence_indices into X.\n",
    "    model = Model(inputs=[sentence_indices],outputs=[X])\n",
    "    \n",
    "    ### END CODE HERE ###\n",
    "    \n",
    "    return model"
   ]
  },
  {
   "cell_type": "code",
   "execution_count": 17,
   "metadata": {},
   "outputs": [
    {
     "name": "stdout",
     "output_type": "stream",
     "text": [
      "_________________________________________________________________\n",
      "Layer (type)                 Output Shape              Param #   \n",
      "=================================================================\n",
      "input_1 (InputLayer)         (None, 29)                0         \n",
      "_________________________________________________________________\n",
      "embedding_2 (Embedding)      (None, 29, 300)           658627800 \n",
      "_________________________________________________________________\n",
      "lstm_1 (LSTM)                (None, 29, 128)           219648    \n",
      "_________________________________________________________________\n",
      "dropout_1 (Dropout)          (None, 29, 128)           0         \n",
      "_________________________________________________________________\n",
      "lstm_2 (LSTM)                (None, 128)               131584    \n",
      "_________________________________________________________________\n",
      "dropout_2 (Dropout)          (None, 128)               0         \n",
      "_________________________________________________________________\n",
      "dense_1 (Dense)              (None, 2)                 258       \n",
      "_________________________________________________________________\n",
      "activation_1 (Activation)    (None, 2)                 0         \n",
      "=================================================================\n",
      "Total params: 658,979,290\n",
      "Trainable params: 351,490\n",
      "Non-trainable params: 658,627,800\n",
      "_________________________________________________________________\n"
     ]
    }
   ],
   "source": [
    "model = Harvey_Fake((maxLen,), word_to_vec_map, word_to_index)\n",
    "model.summary()"
   ]
  },
  {
   "cell_type": "code",
   "execution_count": 18,
   "metadata": {},
   "outputs": [],
   "source": [
    "model.compile(loss='categorical_crossentropy', optimizer='adam', metrics=['accuracy'])"
   ]
  },
  {
   "cell_type": "code",
   "execution_count": 21,
   "metadata": {},
   "outputs": [],
   "source": [
    "X_train_indices = sentences_to_indices(X_train, word_to_index, maxLen)\n",
    "Y_train_oh = convert_to_one_hot(Y_train, C = 2)"
   ]
  },
  {
   "cell_type": "code",
   "execution_count": 23,
   "metadata": {},
   "outputs": [
    {
     "name": "stdout",
     "output_type": "stream",
     "text": [
      "Epoch 1/50\n",
      "800/800 [==============================] - 4s 5ms/step - loss: 0.5496 - acc: 0.7150\n",
      "Epoch 2/50\n",
      "800/800 [==============================] - 2s 2ms/step - loss: 0.3551 - acc: 0.8625\n",
      "Epoch 3/50\n",
      "800/800 [==============================] - 2s 2ms/step - loss: 0.2504 - acc: 0.9088\n",
      "Epoch 4/50\n",
      "800/800 [==============================] - 2s 2ms/step - loss: 0.1732 - acc: 0.9337\n",
      "Epoch 5/50\n",
      "800/800 [==============================] - 2s 2ms/step - loss: 0.1392 - acc: 0.9475\n",
      "Epoch 6/50\n",
      "800/800 [==============================] - 2s 2ms/step - loss: 0.1067 - acc: 0.9625\n",
      "Epoch 7/50\n",
      "800/800 [==============================] - 2s 2ms/step - loss: 0.1000 - acc: 0.9587\n",
      "Epoch 8/50\n",
      "800/800 [==============================] - 2s 2ms/step - loss: 0.0684 - acc: 0.9763\n",
      "Epoch 9/50\n",
      "800/800 [==============================] - 2s 2ms/step - loss: 0.0990 - acc: 0.9675\n",
      "Epoch 10/50\n",
      "800/800 [==============================] - 2s 2ms/step - loss: 0.0520 - acc: 0.9888\n",
      "Epoch 11/50\n",
      "800/800 [==============================] - 2s 2ms/step - loss: 0.0400 - acc: 0.9900\n",
      "Epoch 12/50\n",
      "800/800 [==============================] - 2s 3ms/step - loss: 0.0495 - acc: 0.9800\n",
      "Epoch 13/50\n",
      "800/800 [==============================] - 2s 2ms/step - loss: 0.0531 - acc: 0.9850\n",
      "Epoch 14/50\n",
      "800/800 [==============================] - 2s 3ms/step - loss: 0.0766 - acc: 0.9750\n",
      "Epoch 15/50\n",
      "800/800 [==============================] - 2s 2ms/step - loss: 0.0561 - acc: 0.9788\n",
      "Epoch 16/50\n",
      "800/800 [==============================] - 2s 2ms/step - loss: 0.0709 - acc: 0.9763\n",
      "Epoch 17/50\n",
      "800/800 [==============================] - 2s 2ms/step - loss: 0.0525 - acc: 0.9850\n",
      "Epoch 18/50\n",
      "800/800 [==============================] - 2s 2ms/step - loss: 0.0587 - acc: 0.9838\n",
      "Epoch 19/50\n",
      "800/800 [==============================] - 2s 2ms/step - loss: 0.0298 - acc: 0.9900\n",
      "Epoch 20/50\n",
      "800/800 [==============================] - 2s 3ms/step - loss: 0.0313 - acc: 0.9875\n",
      "Epoch 21/50\n",
      "800/800 [==============================] - 2s 2ms/step - loss: 0.0277 - acc: 0.9862\n",
      "Epoch 22/50\n",
      "800/800 [==============================] - 2s 2ms/step - loss: 0.0273 - acc: 0.9875\n",
      "Epoch 23/50\n",
      "800/800 [==============================] - 2s 2ms/step - loss: 0.0186 - acc: 0.9900\n",
      "Epoch 24/50\n",
      "800/800 [==============================] - 2s 2ms/step - loss: 0.0167 - acc: 0.9900\n",
      "Epoch 25/50\n",
      "800/800 [==============================] - 2s 2ms/step - loss: 0.0149 - acc: 0.9913\n",
      "Epoch 26/50\n",
      "800/800 [==============================] - 2s 2ms/step - loss: 0.0173 - acc: 0.9913\n",
      "Epoch 27/50\n",
      "800/800 [==============================] - 2s 2ms/step - loss: 0.0168 - acc: 0.9875\n",
      "Epoch 28/50\n",
      "800/800 [==============================] - 2s 2ms/step - loss: 0.0161 - acc: 0.9875\n",
      "Epoch 29/50\n",
      "800/800 [==============================] - 2s 2ms/step - loss: 0.0174 - acc: 0.9900\n",
      "Epoch 30/50\n",
      "800/800 [==============================] - 2s 2ms/step - loss: 0.0266 - acc: 0.9875\n",
      "Epoch 31/50\n",
      "800/800 [==============================] - 2s 2ms/step - loss: 0.0401 - acc: 0.9888\n",
      "Epoch 32/50\n",
      "800/800 [==============================] - 2s 2ms/step - loss: 0.0788 - acc: 0.9750\n",
      "Epoch 33/50\n",
      "800/800 [==============================] - 2s 2ms/step - loss: 0.0497 - acc: 0.9825\n",
      "Epoch 34/50\n",
      "800/800 [==============================] - 2s 2ms/step - loss: 0.0353 - acc: 0.9900\n",
      "Epoch 35/50\n",
      "800/800 [==============================] - 2s 2ms/step - loss: 0.0246 - acc: 0.9888\n",
      "Epoch 36/50\n",
      "800/800 [==============================] - 2s 2ms/step - loss: 0.0399 - acc: 0.9875\n",
      "Epoch 37/50\n",
      "800/800 [==============================] - 2s 2ms/step - loss: 0.0244 - acc: 0.9888\n",
      "Epoch 38/50\n",
      "800/800 [==============================] - 2s 3ms/step - loss: 0.0189 - acc: 0.9913\n",
      "Epoch 39/50\n",
      "800/800 [==============================] - 2s 3ms/step - loss: 0.0154 - acc: 0.9925\n",
      "Epoch 40/50\n",
      "800/800 [==============================] - 2s 2ms/step - loss: 0.0158 - acc: 0.9888\n",
      "Epoch 41/50\n",
      "800/800 [==============================] - 2s 2ms/step - loss: 0.0161 - acc: 0.9875\n",
      "Epoch 42/50\n",
      "800/800 [==============================] - 2s 2ms/step - loss: 0.0137 - acc: 0.9925\n",
      "Epoch 43/50\n",
      "800/800 [==============================] - 2s 2ms/step - loss: 0.0138 - acc: 0.9900\n",
      "Epoch 44/50\n",
      "800/800 [==============================] - 2s 2ms/step - loss: 0.0134 - acc: 0.9862\n",
      "Epoch 45/50\n",
      "800/800 [==============================] - 2s 3ms/step - loss: 0.0127 - acc: 0.9925\n",
      "Epoch 46/50\n",
      "800/800 [==============================] - 2s 3ms/step - loss: 0.0138 - acc: 0.9888\n",
      "Epoch 47/50\n",
      "800/800 [==============================] - 2s 2ms/step - loss: 0.0129 - acc: 0.9875\n",
      "Epoch 48/50\n",
      "800/800 [==============================] - 2s 2ms/step - loss: 0.0178 - acc: 0.9913\n",
      "Epoch 49/50\n",
      "800/800 [==============================] - 2s 2ms/step - loss: 0.0161 - acc: 0.9913\n",
      "Epoch 50/50\n",
      "800/800 [==============================] - 2s 2ms/step - loss: 0.0159 - acc: 0.9925\n"
     ]
    },
    {
     "data": {
      "text/plain": [
       "<keras.callbacks.History at 0x7f7e184302b0>"
      ]
     },
     "execution_count": 23,
     "metadata": {},
     "output_type": "execute_result"
    }
   ],
   "source": [
    "model.fit(X_train_indices, Y_train_oh, epochs = 50, batch_size = 32, shuffle=True)"
   ]
  },
  {
   "cell_type": "code",
   "execution_count": 24,
   "metadata": {},
   "outputs": [
    {
     "name": "stdout",
     "output_type": "stream",
     "text": [
      "191/191 [==============================] - 0s 2ms/step\n",
      "\n",
      "Test accuracy =  0.8219895291078777\n"
     ]
    }
   ],
   "source": [
    "X_test_indices = sentences_to_indices(X_test, word_to_index, max_len = maxLen)\n",
    "Y_test_oh = convert_to_one_hot(Y_test, C = 2)\n",
    "loss, acc = model.evaluate(X_test_indices, Y_test_oh)\n",
    "print()\n",
    "print(\"Test accuracy = \", acc)"
   ]
  },
  {
   "cell_type": "code",
   "execution_count": 25,
   "metadata": {},
   "outputs": [],
   "source": [
    "X_play = np.array(['There is a crocodile in the flood','Donald Trump donated 1 billion'])"
   ]
  },
  {
   "cell_type": "code",
   "execution_count": 29,
   "metadata": {},
   "outputs": [
    {
     "name": "stdout",
     "output_type": "stream",
     "text": [
      "There is a crocodile in the flood prediction: 1\n",
      "Donald Trump donated 1 billion prediction: 0\n"
     ]
    }
   ],
   "source": [
    "C = 2\n",
    "X_play_indices = sentences_to_indices(X_play, word_to_index, maxLen)\n",
    "pred = model.predict(X_play_indices)\n",
    "for i in range(len(X_play)):\n",
    "    x = X_play_indices\n",
    "    num = np.argmax(pred[i])\n",
    "    print(X_play[i] +' prediction: ' + str(num))"
   ]
  }
 ],
 "metadata": {
  "kernelspec": {
   "display_name": "Python 3",
   "language": "python",
   "name": "python3"
  },
  "language_info": {
   "codemirror_mode": {
    "name": "ipython",
    "version": 3
   },
   "file_extension": ".py",
   "mimetype": "text/x-python",
   "name": "python",
   "nbconvert_exporter": "python",
   "pygments_lexer": "ipython3",
   "version": "3.6.5"
  }
 },
 "nbformat": 4,
 "nbformat_minor": 2
}
