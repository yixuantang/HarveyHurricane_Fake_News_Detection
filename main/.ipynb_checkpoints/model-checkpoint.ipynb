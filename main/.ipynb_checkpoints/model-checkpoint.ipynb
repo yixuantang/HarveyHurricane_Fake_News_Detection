{
 "cells": [
  {
   "cell_type": "code",
   "execution_count": null,
   "metadata": {},
   "outputs": [],
   "source": [
    "## Reference: sequential model class from Andrew Ng, deeplearning.ai"
   ]
  },
  {
   "cell_type": "code",
   "execution_count": 1,
   "metadata": {},
   "outputs": [
    {
     "name": "stderr",
     "output_type": "stream",
     "text": [
      "/home/paperspace/anaconda3/envs/fastai/lib/python3.6/site-packages/h5py/__init__.py:36: FutureWarning: Conversion of the second argument of issubdtype from `float` to `np.floating` is deprecated. In future, it will be treated as `np.float64 == np.dtype(float).type`.\n",
      "  from ._conv import register_converters as _register_converters\n",
      "Using TensorFlow backend.\n"
     ]
    }
   ],
   "source": [
    "import numpy as np\n",
    "import pandas as pd\n",
    "np.random.seed(0)\n",
    "from keras.models import Model\n",
    "from keras.layers import Dense, Input, Dropout, LSTM, Activation\n",
    "from keras.layers.embeddings import Embedding\n",
    "from keras.preprocessing import sequence\n",
    "from keras.initializers import glorot_uniform\n",
    "from unicodedata import normalize\n",
    "from keras import regularizers\n",
    "np.random.seed(1)\n",
    "#import dill"
   ]
  },
  {
   "cell_type": "code",
   "execution_count": 2,
   "metadata": {},
   "outputs": [],
   "source": [
    "# define a function to read details from the embedding matrix\n",
    "def read_glove_vecs(glove_file):\n",
    "    with open(glove_file, 'r') as f:\n",
    "        words = set()\n",
    "        word_to_vec_map = {}\n",
    "        for line in f:\n",
    "            line = normalize('NFKD',line.strip()).split(' ')\n",
    "            curr_word = ' '.join(line[:-300])\n",
    "            words.add(curr_word)\n",
    "            word_to_vec_map[curr_word] = np.array(line[-300:], dtype=np.float64)\n",
    "        \n",
    "        i = 1\n",
    "        words_to_index = {}\n",
    "        index_to_words = {}\n",
    "        for w in sorted(words):\n",
    "            words_to_index[w] = i\n",
    "            index_to_words[i] = w\n",
    "            i = i + 1\n",
    "    return words_to_index, index_to_words, word_to_vec_map"
   ]
  },
  {
   "cell_type": "code",
   "execution_count": 3,
   "metadata": {},
   "outputs": [],
   "source": [
    "word_to_index, index_to_word, word_to_vec_map = read_glove_vecs('../data/glove.840B.300d.txt') # we use GLoVE embedding matrix(840b,300d) from Stanford University"
   ]
  },
  {
   "cell_type": "code",
   "execution_count": 5,
   "metadata": {},
   "outputs": [],
   "source": [
    "data = pd.read_csv('../data/output_1.csv',index_col=0).reset_index(drop=True)"
   ]
  },
  {
   "cell_type": "code",
   "execution_count": 6,
   "metadata": {},
   "outputs": [],
   "source": [
    "train = pd.concat([data[data['label']==0].sample(400),data[data['label']==1].sample(400)])"
   ]
  },
  {
   "cell_type": "code",
   "execution_count": 7,
   "metadata": {},
   "outputs": [],
   "source": [
    "X_train, Y_train = np.array(train.tweet_content),np.array(train.label)"
   ]
  },
  {
   "cell_type": "code",
   "execution_count": 8,
   "metadata": {},
   "outputs": [],
   "source": [
    "test = data[~data.index.isin(list(train.index))]"
   ]
  },
  {
   "cell_type": "code",
   "execution_count": 9,
   "metadata": {},
   "outputs": [],
   "source": [
    "X_test, Y_test = np.array(test.tweet_content),np.array(test.label)"
   ]
  },
  {
   "cell_type": "code",
   "execution_count": 10,
   "metadata": {},
   "outputs": [],
   "source": [
    "def find_len(sentence):\n",
    "    sen = sentence.split(' ')\n",
    "    sen = [i.strip() for i in sen if 'http' not in i]\n",
    "    sen = [i for i in sen if len(i)>0]\n",
    "    return(len(sen))\n",
    "def convert_to_one_hot(Y, C):\n",
    "    Y = np.eye(C)[Y.reshape(-1)]\n",
    "    return Y"
   ]
  },
  {
   "cell_type": "code",
   "execution_count": 11,
   "metadata": {},
   "outputs": [],
   "source": [
    "# get the max length of word sequences\n",
    "maxLen = max([find_len(i) for i in X_train])"
   ]
  },
  {
   "cell_type": "code",
   "execution_count": 12,
   "metadata": {},
   "outputs": [],
   "source": [
    "# define a function to transfer sentences into corresponding indices in the embedding matrix\n",
    "def sentences_to_indices(X, word_to_index, max_len):\n",
    "    \"\"\"\n",
    "    Converts an array of sentences (strings) into an array of indices corresponding to words in the sentences.\n",
    "    The output shape should be such that it can be given to `Embedding()` (described in Figure 4). \n",
    "    \n",
    "    Arguments:\n",
    "    X -- array of sentences (strings), of shape (m, 1)\n",
    "    word_to_index -- a dictionary containing the each word mapped to its index\n",
    "    max_len -- maximum number of words in a sentence. You can assume every sentence in X is no longer than this. \n",
    "    \n",
    "    Returns:\n",
    "    X_indices -- array of indices corresponding to words in the sentences from X, of shape (m, max_len)\n",
    "    \"\"\"\n",
    "    \n",
    "    m = X.shape[0]                                   # number of training examples\n",
    "    \n",
    "    ### START CODE HERE ###\n",
    "    # Initialize X_indices as a numpy matrix of zeros and the correct shape (≈ 1 line)\n",
    "    X_indices = np.zeros([m,max_len])\n",
    "    \n",
    "    for i in range(m):                               # loop over training examples\n",
    "        \n",
    "        # Convert the ith training sentence in lower case and split is into words. You should get a list of words.\n",
    "        sentence_words = X[i].split(' ')\n",
    "        sentence_words = [i.strip() for i in sentence_words if 'http' not in i]\n",
    "        sentence_words = [i for i in sentence_words if len(i)>0]\n",
    "        \n",
    "        # Initialize j to 0\n",
    "        j = 0\n",
    "        \n",
    "        # Loop over the words of sentence_words\n",
    "        for w in sentence_words:\n",
    "            if w not in word_to_index:\n",
    "                word_to_vec_map[w] = np.random.normal(0,0.5,300)\n",
    "                word_to_index[w] = len(word_to_index)+1\n",
    "                index_to_word[len(word_to_index)+1] = w\n",
    "            # Set the (i,j)th entry of X_indices to the index of the correct word.\n",
    "            X_indices[i, j] = word_to_index[w]\n",
    "            # Increment j to j + 1\n",
    "            j = j+1\n",
    "            \n",
    "    ### END CODE HERE ###\n",
    "    \n",
    "    return X_indices"
   ]
  },
  {
   "cell_type": "code",
   "execution_count": 13,
   "metadata": {},
   "outputs": [
    {
     "name": "stdout",
     "output_type": "stream",
     "text": [
      "X1 = ['.@FloydMayweather just stepped up in a BIG way and donated $200 MILLION to #Houston 🙌🏽🙏🏽 #Harvey'\n",
      " 'Hey! @FloydMayweather social media is saying you donated $200 million to Houston for victims of Harvey. Is it true? #harvey #HopeForHouston'\n",
      " '#Harvey2017 #Antifa #BlackLivesMatter #HarveyLootcrew https://t.co/R3PCR44Amf']\n",
      "X1_indices = [[2.195412e+06 1.834088e+06 2.084350e+06 2.145677e+06 1.810830e+06\n",
      "  1.540021e+06 5.279720e+05 2.166160e+06 1.561756e+06 1.694663e+06\n",
      "  2.195413e+06 1.027925e+06 2.121635e+06 1.319000e+03 2.195414e+06\n",
      "  2.195415e+06 0.000000e+00 0.000000e+00 0.000000e+00 0.000000e+00\n",
      "  0.000000e+00 0.000000e+00 0.000000e+00 0.000000e+00 0.000000e+00\n",
      "  0.000000e+00 0.000000e+00 0.000000e+00 0.000000e+00 0.000000e+00]\n",
      " [2.195416e+06 2.195417e+06 2.071175e+06 1.883765e+06 1.823739e+06\n",
      "  2.041490e+06 2.189551e+06 1.694663e+06 2.195413e+06 1.893035e+06\n",
      "  2.121635e+06 8.848700e+05 1.746336e+06 2.155398e+06 1.936716e+06\n",
      "  2.195418e+06 9.181830e+05 1.825179e+06 2.195419e+06 2.195420e+06\n",
      "  2.195421e+06 0.000000e+00 0.000000e+00 0.000000e+00 0.000000e+00\n",
      "  0.000000e+00 0.000000e+00 0.000000e+00 0.000000e+00 0.000000e+00]\n",
      " [2.195422e+06 2.195423e+06 2.195424e+06 2.195425e+06 0.000000e+00\n",
      "  0.000000e+00 0.000000e+00 0.000000e+00 0.000000e+00 0.000000e+00\n",
      "  0.000000e+00 0.000000e+00 0.000000e+00 0.000000e+00 0.000000e+00\n",
      "  0.000000e+00 0.000000e+00 0.000000e+00 0.000000e+00 0.000000e+00\n",
      "  0.000000e+00 0.000000e+00 0.000000e+00 0.000000e+00 0.000000e+00\n",
      "  0.000000e+00 0.000000e+00 0.000000e+00 0.000000e+00 0.000000e+00]]\n"
     ]
    }
   ],
   "source": [
    "X1 = np.array(data['tweet_content'][:3].tolist())\n",
    "X1_indices = sentences_to_indices(X1,word_to_index, max_len = 30)\n",
    "print(\"X1 =\", X1)\n",
    "print(\"X1_indices =\", X1_indices)"
   ]
  },
  {
   "cell_type": "code",
   "execution_count": 14,
   "metadata": {},
   "outputs": [],
   "source": [
    "# define the embedding layer\n",
    "def pretrained_embedding_layer(word_to_vec_map, word_to_index):\n",
    "    \"\"\"\n",
    "    Creates a Keras Embedding() layer and loads in pre-trained GloVe 50-dimensional vectors.\n",
    "    \n",
    "    Arguments:\n",
    "    word_to_vec_map -- dictionary mapping words to their GloVe vector representation.\n",
    "    word_to_index -- dictionary mapping from words to their indices in the vocabulary (400,001 words)\n",
    "\n",
    "    Returns:\n",
    "    embedding_layer -- pretrained layer Keras instance\n",
    "    \"\"\"\n",
    "    \n",
    "    vocab_len = len(word_to_index) + 1                  # adding 1 to fit Keras embedding (requirement)\n",
    "    emb_dim = word_to_vec_map[\"cucumber\"].shape[0]      # define dimensionality of your GloVe word vectors \n",
    "    \n",
    "    ### START CODE HERE ###\n",
    "    # Initialize the embedding matrix as a numpy array of zeros of shape (vocab_len, dimensions of word vectors = emb_dim)\n",
    "    emb_matrix = np.zeros([vocab_len,emb_dim])\n",
    "    \n",
    "    # Set each row \"index\" of the embedding matrix to be the word vector representation of the \"index\"th word of the vocabulary\n",
    "    for word, index in word_to_index.items():\n",
    "        emb_matrix[index, :] = word_to_vec_map[word]\n",
    "\n",
    "    # Define Keras embedding layer with the correct output/input sizes, make it trainable. \n",
    "    embedding_layer = Embedding(vocab_len, emb_dim,trainable=False)\n",
    "    ### END CODE HERE ###\n",
    "\n",
    "    # Build the embedding layer, it is required before setting the weights of the embedding layer. Do not modify the \"None\".\n",
    "    embedding_layer.build((None,))\n",
    "    \n",
    "    # Set the weights of the embedding layer to the embedding matrix. Your layer is now pretrained.\n",
    "    embedding_layer.set_weights([emb_matrix])\n",
    "    \n",
    "    return embedding_layer"
   ]
  },
  {
   "cell_type": "code",
   "execution_count": 15,
   "metadata": {},
   "outputs": [
    {
     "name": "stdout",
     "output_type": "stream",
     "text": [
      "weights[0][1][3] = -0.40237\n"
     ]
    }
   ],
   "source": [
    "embedding_layer = pretrained_embedding_layer(word_to_vec_map, word_to_index)\n",
    "print(\"weights[0][1][3] =\", embedding_layer.get_weights()[0][1][3])"
   ]
  },
  {
   "cell_type": "code",
   "execution_count": 16,
   "metadata": {},
   "outputs": [],
   "source": [
    "# define the main model\n",
    "def Harvey_Fake(input_shape, word_to_vec_map, word_to_index):\n",
    "    \"\"\"\n",
    "    Function creating the Harvey_Fake model's graph.\n",
    "    \n",
    "    Arguments:\n",
    "    input_shape -- shape of the input, usually (max_len,)\n",
    "    word_to_vec_map -- dictionary mapping every word in a vocabulary into its 300-dimensional vector representation\n",
    "    word_to_index -- dictionary mapping from words to their indices in the vocabulary (2.2m words)\n",
    "\n",
    "    Returns:\n",
    "    model -- a model instance in Keras\n",
    "    \"\"\"\n",
    "    \n",
    "    ### START CODE HERE ###\n",
    "    # Define sentence_indices as the input of the graph, it should be of shape input_shape and dtype 'int32' (as it contains indices).\n",
    "    sentence_indices = Input(input_shape,dtype='int32')\n",
    "    \n",
    "    # Create the embedding layer pretrained with GloVe Vectors (≈1 line)\n",
    "    embedding_layer = pretrained_embedding_layer(word_to_vec_map,word_to_index)\n",
    "    \n",
    "    # Propagate sentence_indices through your embedding layer, you get back the embeddings\n",
    "    embeddings = embedding_layer(sentence_indices)   \n",
    "    \n",
    "    # Propagate the embeddings through an LSTM layer with 128-dimensional hidden state\n",
    "    # Be careful, the returned output should be a batch of sequences.\n",
    "    X = LSTM(128,return_sequences=True)(embeddings)\n",
    "    # Add dropout with a probability of 0.5\n",
    "    X = Dropout(0.5)(X)\n",
    "    # Propagate X trough another LSTM layer with 128-dimensional hidden state\n",
    "    # Be careful, the returned output should be a single hidden state, not a batch of sequences.\n",
    "    X = LSTM(128)(X)\n",
    "    # Add dropout with a probability of 0.5\n",
    "    X = Dropout(0.5)(X)\n",
    "    # Propagate X through a Dense layer with softmax activation to get back a batch of 5-dimensional vectors.\n",
    "    X = Dense(2,kernel_regularizer=regularizers.l2(0.01))(X)\n",
    "    # Add a softmax activation\n",
    "    X = Activation('softmax')(X)\n",
    "    \n",
    "    # Create Model instance which converts sentence_indices into X.\n",
    "    model = Model(inputs=[sentence_indices],outputs=[X])\n",
    "    \n",
    "    ### END CODE HERE ###\n",
    "    \n",
    "    return model"
   ]
  },
  {
   "cell_type": "code",
   "execution_count": 17,
   "metadata": {},
   "outputs": [
    {
     "name": "stdout",
     "output_type": "stream",
     "text": [
      "_________________________________________________________________\n",
      "Layer (type)                 Output Shape              Param #   \n",
      "=================================================================\n",
      "input_1 (InputLayer)         (None, 29)                0         \n",
      "_________________________________________________________________\n",
      "embedding_2 (Embedding)      (None, 29, 300)           658627800 \n",
      "_________________________________________________________________\n",
      "lstm_1 (LSTM)                (None, 29, 128)           219648    \n",
      "_________________________________________________________________\n",
      "dropout_1 (Dropout)          (None, 29, 128)           0         \n",
      "_________________________________________________________________\n",
      "lstm_2 (LSTM)                (None, 128)               131584    \n",
      "_________________________________________________________________\n",
      "dropout_2 (Dropout)          (None, 128)               0         \n",
      "_________________________________________________________________\n",
      "dense_1 (Dense)              (None, 2)                 258       \n",
      "_________________________________________________________________\n",
      "activation_1 (Activation)    (None, 2)                 0         \n",
      "=================================================================\n",
      "Total params: 658,979,290\n",
      "Trainable params: 351,490\n",
      "Non-trainable params: 658,627,800\n",
      "_________________________________________________________________\n"
     ]
    }
   ],
   "source": [
    "model = Harvey_Fake((maxLen,), word_to_vec_map, word_to_index)\n",
    "model.summary()"
   ]
  },
  {
   "cell_type": "code",
   "execution_count": 18,
   "metadata": {},
   "outputs": [],
   "source": [
    "model.compile(loss='categorical_crossentropy', optimizer='adam', metrics=['accuracy'])"
   ]
  },
  {
   "cell_type": "code",
   "execution_count": 19,
   "metadata": {},
   "outputs": [],
   "source": [
    "X_train_indices = sentences_to_indices(X_train, word_to_index, maxLen)\n",
    "Y_train_oh = convert_to_one_hot(Y_train, C = 2)"
   ]
  },
  {
   "cell_type": "code",
   "execution_count": 20,
   "metadata": {},
   "outputs": [
    {
     "name": "stdout",
     "output_type": "stream",
     "text": [
      "Train on 640 samples, validate on 160 samples\n",
      "Epoch 1/50\n",
      "640/640 [==============================] - 4s 6ms/step - loss: 0.5942 - acc: 0.6766 - val_loss: 0.5153 - val_acc: 0.8375\n",
      "Epoch 2/50\n",
      "640/640 [==============================] - 2s 3ms/step - loss: 0.3876 - acc: 0.8469 - val_loss: 0.5236 - val_acc: 0.8187\n",
      "Epoch 3/50\n",
      "640/640 [==============================] - 2s 2ms/step - loss: 0.2996 - acc: 0.9031 - val_loss: 0.7091 - val_acc: 0.6500\n",
      "Epoch 4/50\n",
      "640/640 [==============================] - 2s 3ms/step - loss: 0.2488 - acc: 0.9125 - val_loss: 0.5326 - val_acc: 0.8438\n",
      "Epoch 5/50\n",
      "640/640 [==============================] - 2s 3ms/step - loss: 0.1735 - acc: 0.9484 - val_loss: 0.4297 - val_acc: 0.8125\n",
      "Epoch 6/50\n",
      "640/640 [==============================] - 2s 2ms/step - loss: 0.1073 - acc: 0.9703 - val_loss: 1.0167 - val_acc: 0.5938\n",
      "Epoch 7/50\n",
      "640/640 [==============================] - 2s 2ms/step - loss: 0.1408 - acc: 0.9563 - val_loss: 0.7208 - val_acc: 0.8000\n",
      "Epoch 8/50\n",
      "640/640 [==============================] - 2s 2ms/step - loss: 0.1088 - acc: 0.9734 - val_loss: 0.5692 - val_acc: 0.8000\n",
      "Epoch 9/50\n",
      "640/640 [==============================] - 2s 3ms/step - loss: 0.0767 - acc: 0.9859 - val_loss: 0.4952 - val_acc: 0.8250\n",
      "Epoch 10/50\n",
      "640/640 [==============================] - 2s 2ms/step - loss: 0.0660 - acc: 0.9891 - val_loss: 0.4377 - val_acc: 0.8438\n",
      "Epoch 11/50\n",
      "640/640 [==============================] - 2s 3ms/step - loss: 0.0680 - acc: 0.9844 - val_loss: 0.6764 - val_acc: 0.8000\n",
      "Epoch 12/50\n",
      "640/640 [==============================] - 2s 3ms/step - loss: 0.0542 - acc: 0.9891 - val_loss: 0.5798 - val_acc: 0.8063\n",
      "Epoch 13/50\n",
      "640/640 [==============================] - 2s 2ms/step - loss: 0.0496 - acc: 0.9937 - val_loss: 0.8658 - val_acc: 0.7812\n",
      "Epoch 14/50\n",
      "640/640 [==============================] - 2s 2ms/step - loss: 0.0531 - acc: 0.9906 - val_loss: 0.7617 - val_acc: 0.7562\n",
      "Epoch 15/50\n",
      "640/640 [==============================] - 2s 3ms/step - loss: 0.0474 - acc: 0.9922 - val_loss: 0.9037 - val_acc: 0.7438\n",
      "Epoch 16/50\n",
      "640/640 [==============================] - 2s 2ms/step - loss: 0.0406 - acc: 0.9937 - val_loss: 0.7595 - val_acc: 0.8063\n",
      "Epoch 17/50\n",
      "640/640 [==============================] - 2s 3ms/step - loss: 0.0463 - acc: 0.9906 - val_loss: 0.8728 - val_acc: 0.7500\n",
      "Epoch 18/50\n",
      "640/640 [==============================] - 2s 2ms/step - loss: 0.0423 - acc: 0.9937 - val_loss: 0.7250 - val_acc: 0.7875\n",
      "Epoch 19/50\n",
      "640/640 [==============================] - 2s 3ms/step - loss: 0.0758 - acc: 0.9750 - val_loss: 0.6501 - val_acc: 0.7562\n",
      "Epoch 20/50\n",
      "640/640 [==============================] - 2s 3ms/step - loss: 0.0610 - acc: 0.9859 - val_loss: 0.6215 - val_acc: 0.8500\n",
      "Epoch 21/50\n",
      "640/640 [==============================] - 2s 2ms/step - loss: 0.0527 - acc: 0.9859 - val_loss: 0.6586 - val_acc: 0.8375\n",
      "Epoch 22/50\n",
      "640/640 [==============================] - 2s 2ms/step - loss: 0.0388 - acc: 0.9922 - val_loss: 0.9478 - val_acc: 0.7688\n",
      "Epoch 23/50\n",
      "640/640 [==============================] - 2s 2ms/step - loss: 0.0368 - acc: 0.9937 - val_loss: 0.8968 - val_acc: 0.7750\n",
      "Epoch 24/50\n",
      "640/640 [==============================] - 2s 2ms/step - loss: 0.0317 - acc: 0.9922 - val_loss: 0.9801 - val_acc: 0.7875\n",
      "Epoch 25/50\n",
      "640/640 [==============================] - 2s 2ms/step - loss: 0.0310 - acc: 0.9922 - val_loss: 1.1968 - val_acc: 0.7562\n",
      "Epoch 26/50\n",
      "640/640 [==============================] - 2s 2ms/step - loss: 0.0278 - acc: 0.9937 - val_loss: 1.0933 - val_acc: 0.7875\n",
      "Epoch 27/50\n",
      "640/640 [==============================] - 2s 3ms/step - loss: 0.0236 - acc: 0.9937 - val_loss: 1.4310 - val_acc: 0.7625\n",
      "Epoch 28/50\n",
      "640/640 [==============================] - 2s 2ms/step - loss: 0.0216 - acc: 0.9906 - val_loss: 1.3852 - val_acc: 0.7812\n",
      "Epoch 29/50\n",
      "640/640 [==============================] - 2s 2ms/step - loss: 0.0294 - acc: 0.9937 - val_loss: 1.4545 - val_acc: 0.7625\n",
      "Epoch 30/50\n",
      "640/640 [==============================] - 2s 3ms/step - loss: 0.0929 - acc: 0.9703 - val_loss: 0.9494 - val_acc: 0.7688\n",
      "Epoch 31/50\n",
      "640/640 [==============================] - 2s 3ms/step - loss: 0.0771 - acc: 0.9766 - val_loss: 0.5673 - val_acc: 0.8625\n",
      "Epoch 32/50\n",
      "640/640 [==============================] - 2s 2ms/step - loss: 0.0911 - acc: 0.9719 - val_loss: 0.7603 - val_acc: 0.8125\n",
      "Epoch 33/50\n",
      "640/640 [==============================] - 2s 2ms/step - loss: 0.0410 - acc: 0.9891 - val_loss: 0.6418 - val_acc: 0.8500\n",
      "Epoch 34/50\n",
      "640/640 [==============================] - 2s 2ms/step - loss: 0.0380 - acc: 0.9875 - val_loss: 1.0573 - val_acc: 0.7937\n",
      "Epoch 35/50\n",
      "640/640 [==============================] - 2s 2ms/step - loss: 0.0337 - acc: 0.9906 - val_loss: 0.8708 - val_acc: 0.8125\n",
      "Epoch 36/50\n",
      "640/640 [==============================] - 2s 2ms/step - loss: 0.0218 - acc: 0.9937 - val_loss: 1.1289 - val_acc: 0.7688\n",
      "Epoch 37/50\n",
      "640/640 [==============================] - 2s 2ms/step - loss: 0.0188 - acc: 0.9937 - val_loss: 1.1180 - val_acc: 0.7875\n",
      "Epoch 38/50\n",
      "640/640 [==============================] - 2s 2ms/step - loss: 0.0173 - acc: 0.9891 - val_loss: 1.2131 - val_acc: 0.7750\n",
      "Epoch 39/50\n",
      "640/640 [==============================] - 2s 2ms/step - loss: 0.0195 - acc: 0.9937 - val_loss: 1.0349 - val_acc: 0.7937\n",
      "Epoch 40/50\n",
      "640/640 [==============================] - 2s 2ms/step - loss: 0.0211 - acc: 0.9922 - val_loss: 1.2322 - val_acc: 0.7688\n",
      "Epoch 41/50\n",
      "640/640 [==============================] - 2s 2ms/step - loss: 0.0181 - acc: 0.9937 - val_loss: 1.2198 - val_acc: 0.7750\n",
      "Epoch 42/50\n",
      "640/640 [==============================] - 2s 3ms/step - loss: 0.0166 - acc: 0.9906 - val_loss: 1.1692 - val_acc: 0.8000\n",
      "Epoch 43/50\n",
      "640/640 [==============================] - 2s 2ms/step - loss: 0.0155 - acc: 0.9937 - val_loss: 1.1991 - val_acc: 0.8000\n",
      "Epoch 44/50\n",
      "640/640 [==============================] - 2s 3ms/step - loss: 0.0150 - acc: 0.9937 - val_loss: 1.2243 - val_acc: 0.7812\n",
      "Epoch 45/50\n",
      "640/640 [==============================] - 2s 3ms/step - loss: 0.0154 - acc: 0.9906 - val_loss: 1.2206 - val_acc: 0.8000\n",
      "Epoch 46/50\n",
      "640/640 [==============================] - 2s 2ms/step - loss: 0.0144 - acc: 0.9937 - val_loss: 1.2388 - val_acc: 0.7937\n",
      "Epoch 47/50\n",
      "640/640 [==============================] - 2s 3ms/step - loss: 0.0154 - acc: 0.9906 - val_loss: 1.2034 - val_acc: 0.8000\n",
      "Epoch 48/50\n",
      "640/640 [==============================] - 2s 2ms/step - loss: 0.0137 - acc: 0.9937 - val_loss: 1.2762 - val_acc: 0.7812\n",
      "Epoch 49/50\n",
      "640/640 [==============================] - 2s 3ms/step - loss: 0.0140 - acc: 0.9937 - val_loss: 1.2653 - val_acc: 0.7812\n",
      "Epoch 50/50\n",
      "640/640 [==============================] - 2s 3ms/step - loss: 0.0145 - acc: 0.9937 - val_loss: 1.2817 - val_acc: 0.7812\n"
     ]
    },
    {
     "data": {
      "text/plain": [
       "<keras.callbacks.History at 0x7fe3a5b4ac88>"
      ]
     },
     "execution_count": 20,
     "metadata": {},
     "output_type": "execute_result"
    }
   ],
   "source": [
    "model.fit(X_train_indices, Y_train_oh, epochs = 50, batch_size = 32, validation_split=0.2, shuffle=True)"
   ]
  },
  {
   "cell_type": "code",
   "execution_count": 21,
   "metadata": {},
   "outputs": [
    {
     "name": "stdout",
     "output_type": "stream",
     "text": [
      "191/191 [==============================] - 0s 562us/step\n",
      "\n",
      "Test accuracy =  0.8115183199263368\n"
     ]
    }
   ],
   "source": [
    "X_test_indices = sentences_to_indices(X_test, word_to_index, max_len = maxLen)\n",
    "Y_test_oh = convert_to_one_hot(Y_test, C = 2)\n",
    "loss, acc = model.evaluate(X_test_indices, Y_test_oh)\n",
    "print()\n",
    "print(\"Test accuracy = \", acc)"
   ]
  },
  {
   "cell_type": "code",
   "execution_count": 22,
   "metadata": {},
   "outputs": [],
   "source": [
    "X_play = np.array(['There is a crocodile in the flood','Donald Trump donated 1 billion'])"
   ]
  },
  {
   "cell_type": "code",
   "execution_count": 28,
   "metadata": {},
   "outputs": [
    {
     "name": "stdout",
     "output_type": "stream",
     "text": [
      "Self-created sentence: \"There is a crocodile in the flood\" | Prediction: 0\n",
      "Self-created sentence: \"Donald Trump donated 1 billion\" | Prediction: 0\n"
     ]
    }
   ],
   "source": [
    "C = 2\n",
    "X_play_indices = sentences_to_indices(X_play, word_to_index, maxLen)\n",
    "pred = model.predict(X_play_indices)\n",
    "for i in range(len(X_play)):\n",
    "    x = X_play_indices\n",
    "    num = np.argmax(pred[i])\n",
    "    print('Self-created sentence: \"' + X_play[i] + '\" |' +' Prediction: ' + str(num))"
   ]
  },
  {
   "cell_type": "code",
   "execution_count": 32,
   "metadata": {},
   "outputs": [],
   "source": [
    "# save the model\n",
    "model.save('../model_checkpoint/model_180711.h5')"
   ]
  }
 ],
 "metadata": {
  "kernelspec": {
   "display_name": "Python 3",
   "language": "python",
   "name": "python3"
  },
  "language_info": {
   "codemirror_mode": {
    "name": "ipython",
    "version": 3
   },
   "file_extension": ".py",
   "mimetype": "text/x-python",
   "name": "python",
   "nbconvert_exporter": "python",
   "pygments_lexer": "ipython3",
   "version": "3.6.5"
  }
 },
 "nbformat": 4,
 "nbformat_minor": 2
}
