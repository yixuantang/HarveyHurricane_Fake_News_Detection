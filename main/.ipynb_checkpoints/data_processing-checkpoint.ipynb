{
 "cells": [
  {
   "cell_type": "code",
   "execution_count": 37,
   "metadata": {},
   "outputs": [],
   "source": [
    "import keras\n",
    "import pandas as pd\n",
    "import numpy as np\n",
    "import random"
   ]
  },
  {
   "cell_type": "code",
   "execution_count": 24,
   "metadata": {},
   "outputs": [],
   "source": [
    "data = pd.read_csv('output.csv',sep='=',lineterminator='\\n',index_col=0)"
   ]
  },
  {
   "cell_type": "code",
   "execution_count": 25,
   "metadata": {},
   "outputs": [],
   "source": [
    "data1 = pd.concat(pd.read_csv('news13-24{}.csv'.format(i),index_col=0) for i in ['true','fake'])"
   ]
  },
  {
   "cell_type": "code",
   "execution_count": 28,
   "metadata": {},
   "outputs": [],
   "source": [
    "true1 = data[(data['text'].str.lower().str.contains('mandatory evacuation'))\n",
    "     & ((data['text'].str.lower().str.contains('houston'))) & ((~data['text'].str.lower().str.contains('no'))) & (data['label\\r\\r']==1)][['text']].drop_duplicates().index"
   ]
  },
  {
   "cell_type": "code",
   "execution_count": 29,
   "metadata": {},
   "outputs": [],
   "source": [
    "true2 = data[(data['text'].str.lower().str.contains('cajun navy'))\n",
    "     & ((data['text'].str.lower().str.contains('stolen')) | (data['text'].str.lower().str.contains('loot'))) & (data['label\\r\\r']==1)][['text']].drop_duplicates().index"
   ]
  },
  {
   "cell_type": "code",
   "execution_count": 30,
   "metadata": {},
   "outputs": [],
   "source": [
    "true3 = evac = data[(data['text'].str.lower().str.contains('black'))\n",
    "     & ((data['text'].str.lower().str.contains('gang')) | (data['text'].str.lower().str.contains('loot'))) & (data['label\\r\\r']==1)][['text']].drop_duplicates().index"
   ]
  },
  {
   "cell_type": "code",
   "execution_count": 31,
   "metadata": {},
   "outputs": [],
   "source": [
    "true4 = data[(data['text'].str.lower().str.contains('harveylootcrew')) | (data['text'].str.lower().str.contains('houstonlootcrew')) & (data['label\\r\\r']==1)][['text']].drop_duplicates().index"
   ]
  },
  {
   "cell_type": "code",
   "execution_count": 32,
   "metadata": {},
   "outputs": [],
   "source": [
    "true5 = data[(data['text'].str.lower().str.contains('mayweather'))\n",
    "     & ((data['text'].str.lower().str.contains('donat'))) & (data['label\\r\\r']==1)][['text']].drop_duplicates().index"
   ]
  },
  {
   "cell_type": "code",
   "execution_count": 38,
   "metadata": {},
   "outputs": [],
   "source": [
    "trues = random.sample(list(true1) + list(true2) + list(true3) + list(true4) + list(true5),250)"
   ]
  },
  {
   "cell_type": "code",
   "execution_count": 50,
   "metadata": {},
   "outputs": [],
   "source": [
    "trues = data.loc[trues]"
   ]
  },
  {
   "cell_type": "code",
   "execution_count": 52,
   "metadata": {},
   "outputs": [],
   "source": [
    "data = pd.concat([trues,data[data['label\\r\\r']==0]])"
   ]
  },
  {
   "cell_type": "code",
   "execution_count": 55,
   "metadata": {},
   "outputs": [],
   "source": [
    "data.columns = data1.columns"
   ]
  },
  {
   "cell_type": "code",
   "execution_count": 58,
   "metadata": {},
   "outputs": [],
   "source": [
    "data = pd.concat([data,data1])"
   ]
  },
  {
   "cell_type": "code",
   "execution_count": 60,
   "metadata": {},
   "outputs": [],
   "source": [
    "data.to_csv('output_1.csv')"
   ]
  }
 ],
 "metadata": {
  "kernelspec": {
   "display_name": "Python 3",
   "language": "python",
   "name": "python3"
  },
  "language_info": {
   "codemirror_mode": {
    "name": "ipython",
    "version": 3
   },
   "file_extension": ".py",
   "mimetype": "text/x-python",
   "name": "python",
   "nbconvert_exporter": "python",
   "pygments_lexer": "ipython3",
   "version": "3.6.5"
  }
 },
 "nbformat": 4,
 "nbformat_minor": 2
}
